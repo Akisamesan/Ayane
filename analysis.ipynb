{
 "cells": [
  {
   "cell_type": "code",
   "execution_count": null,
   "metadata": {},
   "outputs": [],
   "source": [
    "import glob\n",
    "import numpy as np\n",
    "import librosa\n",
    "import matplotlib.pyplot as plt\n",
    "from concurrent.futures import ThreadPoolExecutor"
   ]
  },
  {
   "cell_type": "code",
   "execution_count": null,
   "metadata": {},
   "outputs": [],
   "source": [
    "class analyze_music:\n",
    "# analysis_musicの中のなくては動かないもの\n",
    "    # サンプリングレートと窓関数のサイズを設定(libeosarの名前より参照)\n",
    "    sr = 44100\n",
    "    n_fft = 2048\n",
    "    frame_length = 65536 # 特徴量を１つ算出するのに使うサンプル数\n",
    "    hop_length   = 1638 # 何サンプルずらして特徴量を算出するかを決める変数\n",
    "    # スペクトラルロールオフを計算する割合（通常は0.85や0.95が使われる）\n",
    "    roll_percent = 0.85\n",
    "    def __init__(self, music_path):\n",
    "        self.music_path = music_path\n",
    "        self.y, analyze_music.sr = librosa.load(self.music_path, sr=analyze_music.sr, mono=True ,dtype=np.float64)\n",
    "        self.S = np.abs(librosa.stft(self.y))\n",
    "# analysis_musicの中の機能や結果\n",
    "    def title(self):\n",
    "        music_title = self.music_path.split(\"/\")[-1]\n",
    "        return music_title\n",
    "    # ノイズの多さについて調べる\n",
    "    def zero_crossings_rate(self):\n",
    "        zcr = librosa.feature.zero_crossing_rate(self.y, pad=False, frame_length=analyze_music.frame_length, hop_length=analyze_music.hop_length)[0]\n",
    "        print(zcr.shape)\n",
    "        return zcr\n",
    "    def spectral_centroid(self):\n",
    "        # スペクトル重心：短時間ごとの音色の煌びやかさを算出\n",
    "        sc   = librosa.feature.spectral_centroid(y=self.y,S=self.S, n_fft=analyze_music.frame_length, hop_length=analyze_music.hop_length)[0]\n",
    "        return sc\n",
    "    def spectral_rolloff(self):\n",
    "        # スペクトラルロールオフ\n",
    "        sro = librosa.feature.spectral_rolloff(y=self.y,S=self.S, sr=analyze_music.sr, hop_length=analyze_music.hop_length)[0]\n",
    "        return sro\n",
    "    def mfccs(self):\n",
    "        # メル周波数スペクトル\n",
    "        mfccs = librosa.feature.mfcc(y=self.y,S=self.S, sr=analyze_music.sr)\n",
    "        return mfccs"
   ]
  },
  {
   "cell_type": "code",
   "execution_count": null,
   "metadata": {},
   "outputs": [],
   "source": [
    "def collect_music(music_path):\n",
    "    sc_row = np.array([])\n",
    "    sro_row = np.array([])\n",
    "    for i in range(len(music_path)):\n",
    "        a = analyze_music(music_path[i])\n",
    "        title = a.title()\n",
    "        sc = a.spectral_centroid()\n",
    "        sro = a.spectral_rolloff()\n",
    "        sc_row = np.append(sc_row, sc)\n",
    "        sro_row = np.append(sr_row, sro)\n",
    "        # 使っていない部分\n",
    "        # mfccs = a.mfccs()\n",
    "        # zcr =a.zero_crossings_rate()\n",
    "        # with open(\"./csv/{}.csv\".format(a.title()), mode='w') as f:\n",
    "        #     w = csv.writer(f)\n",
    "        #     w.writerow(sc)\n",
    "        #     w.writerow(sro)\n",
    "        #     w.writerow(mfccs)\n",
    "    return sc_row, sroo_row"
   ]
  },
  {
   "cell_type": "code",
   "execution_count": null,
   "metadata": {},
   "outputs": [],
   "source": [
    "# 200曲から特徴量を抽出\n",
    "music_path = glob.glob(r\"曲のパス\")\n",
    "random_music = np.random.choice(music_path, 200, replace=False)\n",
    "print(len(random_music))\n",
    "\n",
    "f = open(r'.\\music_rand.txt', 'w', encoding='utf-8_sig')\n",
    "for i in range(len(random_music)):\n",
    "    f.writelines(random_music[i] + '\\n')"
   ]
  },
  {
   "cell_type": "code",
   "execution_count": null,
   "metadata": {},
   "outputs": [],
   "source": [
    "with ThreadPoolExecutor(max_workers=1000) as executor:\n",
    "    feature = executor.submit(collect_music,random_music)\n",
    "    sc_row, sro_row = feature.result()"
   ]
  },
  {
   "cell_type": "code",
   "execution_count": null,
   "metadata": {},
   "outputs": [],
   "source": [
    "sc_row_list = str(sc_row.tolist())\n",
    "sro_row_list = str(sro_row.tolist())\n",
    "with open(r'.\\sro_row_list.txt', 'w', encoding='utf-8_sig') as f:\n",
    "    for i in range(len(sro_row_list)):\n",
    "        f.writelines(sro_row_list[i])"
   ]
  },
  {
   "cell_type": "code",
   "execution_count": null,
   "metadata": {},
   "outputs": [],
   "source": [
    "plt.hist(sc_row, bins=1000, range=(1, sc_row.max()))\n",
    "plt.show()\n",
    "plt.hist(sro_row, bins=1000, range=(1, sro_row.max()))\n",
    "plt.show()    \n"
   ]
  },
  {
   "cell_type": "code",
   "execution_count": null,
   "metadata": {},
   "outputs": [],
   "source": [
    "plt.scatter(sc_row, sro_row)"
   ]
  },
  {
   "cell_type": "code",
   "execution_count": null,
   "metadata": {},
   "outputs": [],
   "source": [
    "def filtered(filtered):\n",
    "    top = np.percentile(filtered, 95)\n",
    "    bottom = np.percentile(filtered, 5)\n",
    "    filtered = filtered[(filtered > bottom) & (filtered < top)]\n",
    "    return filtered\n"
   ]
  },
  {
   "cell_type": "code",
   "execution_count": null,
   "metadata": {},
   "outputs": [],
   "source": [
    "sc_filtered = filtered(sc_row)\n",
    "sro_filtered = filtered(sro_row)"
   ]
  },
  {
   "cell_type": "code",
   "execution_count": null,
   "metadata": {},
   "outputs": [],
   "source": [
    "print(sc_filtered.min(), sc_filtered.max())\n",
    "print(sro_filtered.min(), sro_filtered.max())\n",
    "plt.hist(sc_filtered, bins=100, range=(sc_filtered.min(), sc_row.max()))\n",
    "plt.show()\n",
    "plt.hist(sro_filtered, bins=100, range=(sro_filtered.min(), sro_row.max()))\n",
    "plt.show()    \n"
   ]
  }
 ],
 "metadata": {
  "kernelspec": {
   "display_name": "Python 3",
   "language": "python",
   "name": "python3"
  },
  "language_info": {
   "codemirror_mode": {
    "name": "ipython",
    "version": 3
   },
   "file_extension": ".py",
   "mimetype": "text/x-python",
   "name": "python",
   "nbconvert_exporter": "python",
   "pygments_lexer": "ipython3",
   "version": "3.11.4"
  },
  "orig_nbformat": 4
 },
 "nbformat": 4,
 "nbformat_minor": 2
}
