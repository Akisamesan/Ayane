{
 "cells": [
  {
   "cell_type": "code",
   "execution_count": null,
   "metadata": {},
   "outputs": [],
   "source": [
    "import librosa\n",
    "import numpy as np\n",
    "import matplotlib.pyplot as plt\n",
    "import colorsys\n",
    "from sklearn.linear_model import LinearRegression\n",
    "\n",
    "# 周波数\n",
    "sr = 44100\n",
    "# FFTのサンプル数\n",
    "n_fft = 2048 \n",
    "\n",
    "# オーディオファイルをモノラル信号として読み込む\n",
    "y, sr = librosa.load(r'ここに曲のパス', sr=sr, mono=True ,dtype=np.float64)\n",
    "# 特徴量を１つ算出するのに使うサンプル数\n",
    "frame_length = 2205\n",
    "# 何サンプルずらして特徴量を算出するかを決める変数\n",
    "hop_length   =  1024\n",
    "# スペクトログラムを計算する\n",
    "S = np.abs(librosa.stft(y))"
   ]
  },
  {
   "cell_type": "code",
   "execution_count": null,
   "metadata": {},
   "outputs": [],
   "source": [
    "# RMSを計算する\n",
    "rms  = librosa.feature.rms(y=y,S=S,frame_length=frame_length, hop_length=hop_length)[0]\n",
    "# RMSの時間軸を取得する\n",
    "rms_time = np.floor(librosa.times_like(rms, sr=sr, hop_length=hop_length))"
   ]
  },
  {
   "cell_type": "code",
   "execution_count": null,
   "metadata": {},
   "outputs": [],
   "source": [
    "# スペクトラルロールオフを計算する割合（通常は0.85や0.95が使われる）\n",
    "roll_percent = 0.85\n",
    "\n",
    "# スペクトラルロールオフ : 総スペクトラルエネルギーの低い周波数の割合（全体の85％が含まれる周波数）を算出\n",
    "sro = librosa.feature.spectral_rolloff(y=y,S=S, sr=sr, hop_length=hop_length)[0]\n",
    "# スペクトラルロールオフの時間軸を取得する\n",
    "sroTimes = np.floor(librosa.times_like(sro, hop_length=hop_length, sr=sr))"
   ]
  },
  {
   "cell_type": "code",
   "execution_count": null,
   "metadata": {},
   "outputs": [],
   "source": [
    "# メル周波数スペクトログラムを計算する\n",
    "mfccs = librosa.feature.mfcc(y=y,S=S, sr=sr)\n",
    "# メル周波数スペクトログラムの最大値を取得する\n",
    "mfccs_max = np.max(mfccs, axis=0)"
   ]
  },
  {
   "cell_type": "code",
   "execution_count": null,
   "metadata": {},
   "outputs": [],
   "source": [
    "# スペクトル重心を計算する\n",
    "sc   = librosa.feature.spectral_centroid(y=y,S=S, n_fft=frame_length, hop_length=hop_length)[0]\n",
    "# スペクトル重心の特定フレームでの時間を取得\n",
    "scTimes = np.floor(librosa.times_like(sc, hop_length=hop_length, sr=sr))"
   ]
  },
  {
   "cell_type": "code",
   "execution_count": null,
   "metadata": {},
   "outputs": [],
   "source": [
    "# ゼロ交差数(音の波の変化点)を計算する\n",
    "zc = librosa.zero_crossings(y, pad=False)\n",
    "zc_times = np.floor(librosa.frames_to_time(zc, hop_length=hop_length))"
   ]
  },
  {
   "cell_type": "code",
   "execution_count": null,
   "metadata": {},
   "outputs": [],
   "source": [
    "# 時間の計測（現状合わない）\n",
    "print(len(scTimes))\n",
    "print(scTimes[-1])\n",
    "print(len(rms))\n",
    "print(rms_time[-1])\n",
    "print(len(zc_times))\n",
    "print(zc_times[-1])"
   ]
  },
  {
   "cell_type": "code",
   "execution_count": null,
   "metadata": {},
   "outputs": [],
   "source": [
    "# 数値を正規化する\n",
    "def normalize(data,min,max):\n",
    "    normalized_data = []\n",
    "    for i in data:\n",
    "        if i >= max:\n",
    "            i = max\n",
    "        elif i <= min:\n",
    "            i = min\n",
    "        i = i/max\n",
    "        normalized_data.append(i)\n",
    "    return normalized_data\n",
    "\n",
    "# スペクトルロールオフを正規化する\n",
    "def sro_normalize(data):\n",
    "    sro_max = 13000\n",
    "    sro_min = 900\n",
    "    normalized_data = normalize(data,sro_min,sro_max)\n",
    "    return normalized_data\n",
    "\n",
    "# スペクトル重心を正規化する\n",
    "def sc_normalize(data):\n",
    "    sc_max = 3000\n",
    "    sc_min = 300\n",
    "    normalized_data = normalize(data,sc_min,sc_max)\n",
    "    return normalized_data\n",
    "\n",
    "# メル周波数スペクトログラムを正規化する\n",
    "def mfccs_color(mfccs_max):\n",
    "    max = np.max(mfccs_max)\n",
    "    mfccs_color = normalize(mfccs_max,0,max)\n",
    "    return mfccs_color"
   ]
  },
  {
   "cell_type": "code",
   "execution_count": null,
   "metadata": {},
   "outputs": [],
   "source": [
    "# 正規化したデータを使ってHSVに変換する\n",
    "def color_HSV(sc,sro):\n",
    "    color = np.zeros((len(sc),3))\n",
    "    hue = sc_normalize(sc)\n",
    "    value = sro_normalize(sro)\n",
    "    saturation = mfccs_color(mfccs_max)\n",
    "    for i in range(0,len(sc)):\n",
    "        color[i] = [value[i],saturation[i],hue[i]]\n",
    "    hue_plotter(saturation,hue,value)\n",
    "    return color\n",
    "# デバッグのためにグラフを描画する\n",
    "def hue_plotter(saturation,hue,value):\n",
    "    plt.plot(saturation,label=\"saturation\")\n",
    "    plt.plot(value,label=\"value\")\n",
    "    plt.plot(hue,label=\"hue\")\n",
    "    plt.legend()\n",
    "\n",
    "# HSVをRGBに変換する\n",
    "def color_HSV2color_RGB(color_HSV):\n",
    "    color_RGB = [colorsys.hsv_to_rgb(h, s, b) for h, s, b in color_HSV]\n",
    "    return color_RGB\n",
    "color_HSV = color_HSV(sc,sro)\n",
    "color_RGB = color_HSV2color_RGB(color_HSV)\n",
    "#使えそうな1行 sc =[t / np.max(zsc for t in [sc]\n"
   ]
  },
  {
   "cell_type": "code",
   "execution_count": null,
   "metadata": {},
   "outputs": [],
   "source": [
    "# 新しいグラフを描画\n",
    "plt.figure()           \n",
    "plt.bar(sroTimes,sro,color = color_RGB)\n",
    "\n",
    "# 新しいグラフを描画\n",
    "plt.figure()                                                                                \n",
    "plt.bar(scTimes,sc,color = color_RGB)"
   ]
  },
  {
   "cell_type": "code",
   "execution_count": null,
   "metadata": {},
   "outputs": [],
   "source": [
    "二元的な描画\n",
    "plt.scatter(sc, sro, c=color_RGB, alpha=0.5)"
   ]
  }
 ],
 "metadata": {
  "kernelspec": {
   "display_name": "Python 3",
   "language": "python",
   "name": "python3"
  },
  "language_info": {
   "codemirror_mode": {
    "name": "ipython",
    "version": 3
   },
   "file_extension": ".py",
   "mimetype": "text/x-python",
   "name": "python",
   "nbconvert_exporter": "python",
   "pygments_lexer": "ipython3",
   "version": "3.11.4"
  },
  "orig_nbformat": 4
 },
 "nbformat": 4,
 "nbformat_minor": 2
}
